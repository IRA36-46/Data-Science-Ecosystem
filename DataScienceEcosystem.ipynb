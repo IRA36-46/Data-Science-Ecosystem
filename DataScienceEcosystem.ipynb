{
 "cells": [
  {
   "cell_type": "markdown",
   "id": "6e62b387-aeac-4dd2-8354-3f56b3f88342",
   "metadata": {},
   "source": [
    "# : Data Science Tools and Ecosystem "
   ]
  },
  {
   "cell_type": "markdown",
   "id": "f5025534-280b-4d94-ab9d-fe85c88b127b",
   "metadata": {},
   "source": [
    "In this notebook, Data Science Tools and Ecosystem are summarized"
   ]
  },
  {
   "cell_type": "markdown",
   "id": "08b0afe4-d354-42b4-9cd4-714898d13261",
   "metadata": {},
   "source": [
    "**Objectives**\n",
    "* List popular languages for Data Science\n",
    "* List popular libraries used by Data Scientist\n",
    "* Create a table\n",
    "* Oredered and Unoredered listing"
   ]
  },
  {
   "cell_type": "markdown",
   "id": "a6f2131c-4143-48d9-949e-6cca68472fc5",
   "metadata": {},
   "source": [
    "Some of the popular languages that Data Scientists use are:\n",
    "1. Python\n",
    "2. R\n",
    "3. SQL\n",
    "4. Java\n",
    "5. Julia"
   ]
  },
  {
   "cell_type": "markdown",
   "id": "569dbe6f-fb18-46ea-b43c-a0c104588587",
   "metadata": {},
   "source": [
    "Some of the commonly used libraries used by Data Scientists include: \n",
    "1. Scientific computing libraries e.g Pandas\n",
    "2. Visualization libraries e.g Matplotlib\n",
    "3. Machine learning libraries e.g Scikit-learn\n",
    "4. Deep learning libraries e.g TensorFlow"
   ]
  },
  {
   "cell_type": "markdown",
   "id": "7cfa1109-a5be-4400-a6b1-6baed109bfcd",
   "metadata": {},
   "source": [
    "|Data Science Tools|\n",
    "|------------------|\n",
    "|Jupyter Notebook|\n",
    "|RStudio|\n",
    "|Visual Studio Code|"
   ]
  },
  {
   "cell_type": "markdown",
   "id": "eece4748-b0e1-4705-a435-d42f96b97cee",
   "metadata": {},
   "source": [
    "### H3: Below are  few examples of evaluating arithmetic expressions in Python\n",
    "1. 2+2\n",
    "2. 3*7\n",
    "3. 8/3\n",
    "4. 9-4"
   ]
  },
  {
   "cell_type": "code",
   "execution_count": 1,
   "id": "58fed3f8-02ca-49b3-8260-4c95b476a136",
   "metadata": {},
   "outputs": [
    {
     "data": {
      "text/plain": [
       "17"
      ]
     },
     "execution_count": 1,
     "metadata": {},
     "output_type": "execute_result"
    }
   ],
   "source": [
    "# Execute \n",
    "'''\n",
    "This a simple arithmetic expression to multiply then add integers\n",
    "'''\n",
    "(3*4)+5"
   ]
  },
  {
   "cell_type": "code",
   "execution_count": 3,
   "id": "09357dbe-d48d-48a3-812f-0f3a165ce263",
   "metadata": {},
   "outputs": [
    {
     "data": {
      "text/plain": [
       "3.3333333333333335"
      ]
     },
     "execution_count": 3,
     "metadata": {},
     "output_type": "execute_result"
    }
   ],
   "source": [
    "# Execute \n",
    "'''\n",
    "This will convert 200 minutes to hours by diving by 60\n",
    "'''\n",
    "200/60"
   ]
  },
  {
   "cell_type": "markdown",
   "id": "a3384076-09e1-40e6-b3af-ae21918df132",
   "metadata": {},
   "source": [
    "## : Author \n",
    "KIIZA NEWTON"
   ]
  },
  {
   "cell_type": "code",
   "execution_count": null,
   "id": "17a6caa0-4fb2-4d05-84ff-53a9090d1b0b",
   "metadata": {},
   "outputs": [],
   "source": []
  }
 ],
 "metadata": {
  "kernelspec": {
   "display_name": "Python [conda env:base] *",
   "language": "python",
   "name": "conda-base-py"
  },
  "language_info": {
   "codemirror_mode": {
    "name": "ipython",
    "version": 3
   },
   "file_extension": ".py",
   "mimetype": "text/x-python",
   "name": "python",
   "nbconvert_exporter": "python",
   "pygments_lexer": "ipython3",
   "version": "3.12.7"
  }
 },
 "nbformat": 4,
 "nbformat_minor": 5
}
